{
 "cells": [
  {
   "cell_type": "code",
   "execution_count": 1,
   "metadata": {
    "collapsed": true
   },
   "outputs": [],
   "source": [
    "import os\n",
    "import tensorflow as tf\n",
    "import numpy as np\n",
    "import cPickle\n",
    "import math\n",
    "from configuration import *\n",
    "os.environ[\"THEANO_FLAGS\"] = \"device=cuda2\"\n",
    "config = tf.ConfigProto()\n",
    "config.gpu_options.per_process_gpu_memory_fraction = 0.15\n",
    "#os.environ[\"CUDA_VISIBLE_DEVICES\"]=\"2\""
   ]
  },
  {
   "cell_type": "code",
   "execution_count": 2,
   "metadata": {},
   "outputs": [
    {
     "name": "stderr",
     "output_type": "stream",
     "text": [
      "Using cuDNN version 6020 on context None\n",
      "Mapped name None to device cuda2: Tesla M40 24GB (0000:08:00.0)\n"
     ]
    }
   ],
   "source": [
    "from caption_gen.CaptionWraper import *"
   ]
  },
  {
   "cell_type": "code",
   "execution_count": 3,
   "metadata": {
    "collapsed": true
   },
   "outputs": [],
   "source": [
    "from skipthought import encoder_manager"
   ]
  },
  {
   "cell_type": "code",
   "execution_count": 4,
   "metadata": {
    "collapsed": true
   },
   "outputs": [],
   "source": [
    "from storyteller.inference_utils import vocabulary\n",
    "from storyteller.inference_utils import story_generator\n",
    "from storyteller import inference_wrapper"
   ]
  },
  {
   "cell_type": "code",
   "execution_count": 5,
   "metadata": {
    "collapsed": true
   },
   "outputs": [],
   "source": [
    "FLAGS = tf.flags.FLAGS\n",
    "\n",
    "tf.flags.DEFINE_string(\"checkpoint_path\", \"../StylishParaGen/bard_v1/res_adv_4/model.ckpt-174168\",\n",
    "                       \"Model checkpoint file or directory containing a \"\n",
    "                       \"model checkpoint file.\")\n",
    "tf.flags.DEFINE_string(\"vocab_file\", \"/media/VSlab3/kuanchen_arxiv/vocab_60000_advent_allpad/vocab_shared.txt\", \"Text file containing the vocabulary.\")\n",
    "tf.flags.DEFINE_string(\"book_data_dir\", \"/media/VSlab3/kuanchen_arxiv/BookCorpus_passage/\", \"directory of book data\")\n",
    "tf.flags.DEFINE_string(\"book_category\", \"Adventure\", \"cateogry of book\")\n",
    "#tf.flags.DEFINE_string(\"book_ft\", \"/media/VSlab3/kuanchen_arxiv/fairy_tale/\", \"fairy tale corpus\")\n",
    "\n",
    "tf.logging.set_verbosity(tf.logging.INFO)"
   ]
  },
  {
   "cell_type": "code",
   "execution_count": 6,
   "metadata": {
    "collapsed": true
   },
   "outputs": [],
   "source": [
    "vse_config = vse_config()"
   ]
  },
  {
   "cell_type": "code",
   "execution_count": 7,
   "metadata": {},
   "outputs": [
    {
     "name": "stdout",
     "output_type": "stream",
     "text": [
      "Loading image-sentence embedding...\n",
      "Loading and initializing ConvNet...\n",
      "Loading parameters...\n",
      "Loading captions...\n",
      "Embedding captions...\n"
     ]
    }
   ],
   "source": [
    "wrapper = CapgenWrapper(vse_config)"
   ]
  },
  {
   "cell_type": "code",
   "execution_count": 9,
   "metadata": {},
   "outputs": [
    {
     "name": "stderr",
     "output_type": "stream",
     "text": [
      "/home/kuanchen/anaconda2/lib/python2.7/site-packages/skimage/transform/_warps.py:84: UserWarning: The default mode, 'constant', will be changed to 'reflect' in skimage 0.15.\n",
      "  warn(\"The default mode, 'constant', will be changed to 'reflect' in \"\n"
     ]
    }
   ],
   "source": [
    "captions = wrapper.get_caption(image_loc=\"/media/VSlab3/kuanchen_arxiv/NeuralStoryTeller/neural-storyteller/images/universiades_girl.jpeg\",k=100)"
   ]
  },
  {
   "cell_type": "code",
   "execution_count": 10,
   "metadata": {},
   "outputs": [
    {
     "data": {
      "text/plain": [
       "['A beautiful young woman cutting a mans hair .',\n",
       " \"The young woman is cutting the young man 's hair .\",\n",
       " 'Woman with brown hair cutting a mans hair .',\n",
       " 'A girl smiling and holding a white remote near other smiling people .',\n",
       " 'A young girl using a phone while getting her hair done',\n",
       " 'A woman with red lipstick on her lips standing next to a man with white hair .',\n",
       " 'A young girl and a woman are smiling',\n",
       " 'A woman is making a silly face while a lady looks on .',\n",
       " 'a man with a tie behind a woman holding up her hair',\n",
       " 'A woman smiles as she shows off her large hair and lips .',\n",
       " \"A woman holds her dancing companion 's tie to her face .\",\n",
       " 'A woman holding her hand to her face next to a man .',\n",
       " 'a woman holding some scissors and a comb is cutting a mans hair',\n",
       " 'A woman waving for the camera and smiling .',\n",
       " 'A girl using brush and comb on a boys hair .',\n",
       " 'A woman holding a white game controller next to a woman with perky breast .',\n",
       " 'A close up shot of a young lady with blonde hair .',\n",
       " 'A close up image of a little girl getting her hair done .',\n",
       " 'A girl is holding a controller with her hands',\n",
       " 'A young lady holding a tie and smiling .',\n",
       " 'A little boy is peeking from behind a woman .',\n",
       " 'A beautiful woman with a short hair cut .',\n",
       " 'A woman holding flowers and a scarf as a man looks proud .',\n",
       " 'A beautiful young blonde woman holding a Nintendo Wii controller .',\n",
       " 'A beautiful young blonde woman holding a Nintendo Wii controller .',\n",
       " 'A girl in white with black hair lightly smiling',\n",
       " \"a girl holding onto a man 's tie as he holds onto a drink\",\n",
       " 'Smiling Asian looking young woman holding up phone .',\n",
       " 'A beautiful young woman whispering in the ear of another beautiful young woman .',\n",
       " 'a lady smiling as she holds a game controller',\n",
       " 'Tow women that are standing together in a room and one of the women is holding a napkin to her mouth and food in her other hand .',\n",
       " 'One woman examines a charm attached to the cell phone of the other smiling woman .',\n",
       " \"A girl holds a brush and combs a woman 's hair .\",\n",
       " 'A woman is watching a little girl put a controller in her mouth .',\n",
       " 'The lady in the picture is holding a little girl and fixing her hair .',\n",
       " 'A women with long hair and class staring at the camera .',\n",
       " 'A woman brushes her teeth and shows off her tooth paste while several people pose with her in an open air shelter .',\n",
       " 'a little girl smiles as she holds a wii remote in her hand',\n",
       " 'A woman in a white dress holding a cell phone and smiling .',\n",
       " 'A woman with long hair holding an object .',\n",
       " 'A young woman watches a young girl play the Nintendo Wii .',\n",
       " 'a woman holding a cell phone in her hand looking at a man in front of her',\n",
       " 'A woman holding a Nintendo Wii controller and smiling .',\n",
       " 'A woman holding a hair brush up to her hair .',\n",
       " 'A man putting a necklace on the neck of a woman .',\n",
       " 'A young girl holds a Wii remote to the camera .',\n",
       " 'A beautiful woman holding a smart phone next to a man .',\n",
       " 'A close up view of a stylist cutting someone hair .',\n",
       " 'Two beautiful young women looking at a cell phone with a man .',\n",
       " 'A woman holding a Nintendo Wii controller up in the air .',\n",
       " 'A pretty young girl holding a Nintendo Wii controller .',\n",
       " 'A woman holds a Wii remote up to her nose .',\n",
       " 'A happy girl is showing off her Nintendo Wii .',\n",
       " \"A woman is straightening her young girl 's hair .\",\n",
       " 'A woman smiles at another woman while she holds a phone .',\n",
       " 'A young lady in a blue dress looking in a mirror brushing her hair .',\n",
       " 'A girl with blond hair and a shirt with a tie on making a face .',\n",
       " 'A woman with short hair , earrings and a black dress shirt and necktie .',\n",
       " 'a close up of a person doing another persons hair',\n",
       " 'A woman holding a smart phone standing next to a woman .',\n",
       " 'A woman holding a Wii controller with her eyes closed .',\n",
       " 'A woman with paint over her trying to comb her hair .',\n",
       " 'A young lady with a knife in her hand putting it close to her mouth .',\n",
       " 'A young girl plays the video game wii with a woman',\n",
       " 'A young girl scrunches up her face as she holds a video game remote .',\n",
       " 'Woman holding up a black and white controller in her hand .',\n",
       " 'a woman with a red shirt is blow drying her hair',\n",
       " 'A girl with pink shirt standing in front of man and another girl .',\n",
       " 'A close up of a female getting her hair cut',\n",
       " 'A man putting a necklace on a woman .',\n",
       " 'a girl in a pink shirt is brushing her hair',\n",
       " 'A woman in a hair salon having a picture of her hair taken by her hair dresser .',\n",
       " 'Happy girl in a T-shirt texting with her cell phone .',\n",
       " 'A woman in a pink shirt holding a Nintendo Wii controller .',\n",
       " 'a woman in a pink top holding a cellphone and a few other people',\n",
       " \"A young girl cutting a nervous older man 's hair .\",\n",
       " 'A woman feeds a man as smiling people look on .',\n",
       " 'Two women with one pointing at a phone while the other is holding it .',\n",
       " \"A woman is cutting a blonde girl 's hair .\",\n",
       " 'A girl holding a wii remote looking forward',\n",
       " 'A young woman holding a smart phone in her hands .',\n",
       " 'a woman looking over her shoulder and smiling',\n",
       " 'A beautiful blonde women smiles as she checks her cell phone .',\n",
       " 'A girl smiles as she holds a video controller .',\n",
       " 'Two women holding something together smiling at each other .',\n",
       " 'A young woman is holding a wii controller .',\n",
       " 'A woman holding a remote with a man standing behind her .',\n",
       " 'A lady holding a silver object while a man looks on with an amazed look .',\n",
       " 'a few different woman are getting their hair done',\n",
       " 'the woman looks down at her phone as she holds a glass .',\n",
       " 'A woman with a headband is cutting her hair .',\n",
       " 'A girl is holding a game remote above her head .',\n",
       " 'A young woman with shaggy hair and a tie looks into the camera .',\n",
       " 'A young beautiful woman holding a Nintendo Wii game controller .',\n",
       " 'Woman pointing up at the sky while talking with a man .',\n",
       " 'A girl in front of a mirror looking at her hair .',\n",
       " 'A young man standing behind a young woman holding a camera .',\n",
       " \"a woman stretching out a man 's tie with her mouth\",\n",
       " 'A woman is playing with her little girls hair .',\n",
       " 'A woman making a weird face with curly hair standing next to others .']"
      ]
     },
     "execution_count": 10,
     "metadata": {},
     "output_type": "execute_result"
    }
   ],
   "source": [
    "captions"
   ]
  },
  {
   "cell_type": "code",
   "execution_count": 11,
   "metadata": {
    "collapsed": true
   },
   "outputs": [],
   "source": [
    "encoder = encoder_manager.EncoderManager()"
   ]
  },
  {
   "cell_type": "code",
   "execution_count": 12,
   "metadata": {},
   "outputs": [
    {
     "name": "stdout",
     "output_type": "stream",
     "text": [
      "INFO:tensorflow:Reading vocabulary from /media/VSlab3/kuanchen_arxiv/skip_thoughts_uni_2017_02_02/vocab.txt\n",
      "INFO:tensorflow:Loaded vocabulary with 930914 words.\n",
      "INFO:tensorflow:Loading embedding matrix from /media/VSlab3/kuanchen_arxiv/skip_thoughts_uni_2017_02_02/embeddings.npy\n",
      "INFO:tensorflow:Loaded embedding matrix with shape (930914, 620)\n",
      "INFO:tensorflow:Building model.\n",
      "INFO:tensorflow:Loading model from checkpoint: /media/VSlab3/kuanchen_arxiv/skip_thoughts_uni_2017_02_02/model.ckpt-501424\n",
      "INFO:tensorflow:Restoring parameters from /media/VSlab3/kuanchen_arxiv/skip_thoughts_uni_2017_02_02/model.ckpt-501424\n",
      "INFO:tensorflow:Successfully loaded checkpoint: model.ckpt-501424\n"
     ]
    }
   ],
   "source": [
    "encoder.load_model(model_config=stv_config(),\n",
    "                   vocabulary_file=\"/media/VSlab3/kuanchen_arxiv/skip_thoughts_uni_2017_02_02/vocab.txt\",\n",
    "                   embedding_matrix_file=\"/media/VSlab3/kuanchen_arxiv/skip_thoughts_uni_2017_02_02/embeddings.npy\",\n",
    "                   checkpoint_path=\"/media/VSlab3/kuanchen_arxiv/skip_thoughts_uni_2017_02_02/model.ckpt-501424\")"
   ]
  },
  {
   "cell_type": "code",
   "execution_count": 13,
   "metadata": {},
   "outputs": [
    {
     "name": "stdout",
     "output_type": "stream",
     "text": [
      "INFO:tensorflow:Initializing vocabulary from file: /media/VSlab3/kuanchen_arxiv/vocab_60000_advent_allpad/vocab_shared.txt\n",
      "INFO:tensorflow:Created vocabulary with 60003 words\n"
     ]
    }
   ],
   "source": [
    "vocab = vocabulary.Vocabulary(vocab_file=FLAGS.vocab_file, start_word='<sos>', end_word='<eos>',unk_word='<unk>')"
   ]
  },
  {
   "cell_type": "code",
   "execution_count": 14,
   "metadata": {
    "collapsed": true
   },
   "outputs": [],
   "source": [
    "storyteller_config = storyteller_config()\n",
    "storyteller_config.vocab_size = len(vocab.vocab)"
   ]
  },
  {
   "cell_type": "code",
   "execution_count": 15,
   "metadata": {},
   "outputs": [
    {
     "name": "stdout",
     "output_type": "stream",
     "text": [
      "INFO:tensorflow:Building model.\n"
     ]
    }
   ],
   "source": [
    "g = tf.Graph()\n",
    "with g.as_default():\n",
    "    model = inference_wrapper.InferenceWrapper()\n",
    "    restore_fn = model.build_graph_from_config(storyteller_config,\n",
    "                                               FLAGS.checkpoint_path)\n",
    "g.finalize()"
   ]
  },
  {
   "cell_type": "code",
   "execution_count": 16,
   "metadata": {
    "collapsed": true
   },
   "outputs": [],
   "source": [
    "description = np.mean(encoder.encode(captions),axis=0)"
   ]
  },
  {
   "cell_type": "code",
   "execution_count": 17,
   "metadata": {
    "collapsed": true
   },
   "outputs": [],
   "source": [
    "with open(\"./style_bias/bias_cap.pkl\", 'r') as handle:\n",
    "    bias_source = cPickle.load(handle)\n",
    "with open(\"./style_bias/bias_advent_long_100.pkl\", 'r') as handle:\n",
    "    bias_target_long = cPickle.load(handle)\n",
    "with open(\"./style_bias/bias_advent_short_100.pkl\", 'r') as handle:\n",
    "    bias_target_short = cPickle.load(handle)"
   ]
  },
  {
   "cell_type": "code",
   "execution_count": 18,
   "metadata": {
    "collapsed": true
   },
   "outputs": [],
   "source": [
    "description_style = description - bias_source + bias_target_long"
   ]
  },
  {
   "cell_type": "code",
   "execution_count": 19,
   "metadata": {
    "collapsed": true
   },
   "outputs": [],
   "source": [
    "sess = tf.Session(graph=g,config=config)"
   ]
  },
  {
   "cell_type": "code",
   "execution_count": null,
   "metadata": {},
   "outputs": [],
   "source": [
    "np.expand_dims(description_style,0)"
   ]
  },
  {
   "cell_type": "code",
   "execution_count": 20,
   "metadata": {},
   "outputs": [
    {
     "name": "stdout",
     "output_type": "stream",
     "text": [
      "INFO:tensorflow:Loading model from checkpoint: ../StylishParaGen/bard_v1/res_adv_4/model.ckpt-174168\n",
      "INFO:tensorflow:Restoring parameters from ../StylishParaGen/bard_v1/res_adv_4/model.ckpt-174168\n",
      "INFO:tensorflow:Successfully loaded checkpoint: model.ckpt-174168\n",
      "  0) On the other side of the street , I saw a woman standing in the middle of the street . She was sitting on a bench in the middle of the road . (p=0.000000)\n",
      "  1) On the other side of the street , I saw a woman standing in the middle of the street . She was standing in the middle of the street , looking out the window at the other end of the road . (p=0.000000)\n",
      "  2) On the other side of the street , I saw a woman standing in the middle of the street . She was standing in the middle of the street , looking out the window at the other end of the street . A couple of men stood in front of her . (p=0.000000)\n",
      "  3) On the other side of the street , I saw a woman standing in the middle of the street . She was standing in the middle of the street , looking out the window at the other end of the street . A couple of people stood in front of her . (p=0.000000)\n",
      "  4) On the other side of the street , I saw a woman standing in the middle of the street . She was standing in the middle of the street , looking out the window at the far end of the street . A couple of people stood in front of her . (p=0.000000)\n",
      "  5) On the other side of the street , I saw a woman standing in the middle of the street . She was standing in the middle of the street , looking out the window at the other end of the street . A couple of people stood in front of them . (p=0.000000)\n",
      "  6) On the other side of the street , I saw a woman standing in the middle of the street . She was standing in the middle of the street , looking out the window at the other end of the street . A couple of men stood in front of the house . (p=0.000000)\n",
      "  7) On the other side of the street , I saw a woman standing in the middle of the street . She was standing in the middle of the street , looking out the window at the other end of the street . A couple of people stood in front of the house . (p=0.000000)\n",
      "  8) On the other side of the street , I saw a woman standing in the middle of the street . She was standing in the middle of the street , looking out the window at the far end of the street . A couple of people stood in front of the house . (p=0.000000)\n",
      "  9) On the other side of the street , I saw a woman standing in the middle of the street . She was standing in the middle of the street , looking out the window at the other side of the house . A couple of men stood in the middle of the road . (p=0.000000)\n",
      "  10) On the other side of the street , I saw a woman standing in the middle of the street . She was standing in the middle of the street , looking out the window at the other end of the street . A couple of men stood in the middle of the road . (p=0.000000)\n",
      "  11) On the other side of the street , I saw a woman standing in the middle of the street . She was standing in the middle of the street , looking out the window at the other side of the house . A couple of men stood in the middle of the street . (p=0.000000)\n",
      "  12) On the other side of the street , I saw a woman standing in the middle of the street . She was standing in the middle of the street , looking out the window at the other end of the street . A couple of men stood in the middle of the street . (p=0.000000)\n",
      "  13) On the other side of the street , I saw a woman standing in the middle of the street . She was standing in the middle of the street , looking out the window at the far end of the street . A couple of men stood in the middle of the road . (p=0.000000)\n",
      "  14) On the other side of the street , I saw a woman standing in the middle of the street . She was standing in the middle of the street , looking out the window at the far end of the street . A couple of men stood in the middle of the street . (p=0.000000)\n",
      "  15) On the other side of the street , I saw a woman standing in the middle of the street . She was standing in the middle of the street , looking out the window at the other end of the street . A couple of men stood in the middle of the lawn . (p=0.000000)\n",
      "  16) On the other side of the street , I saw a woman standing in the middle of the street . She was standing in the middle of the street , looking out the window at the other side of the house . A couple of men stood in the middle of the living room . (p=0.000000)\n",
      "  17) On the other side of the street , I saw a woman standing in the middle of the street . She was standing in the middle of the street , looking out the window at the other end of the street . A couple of men stood in the middle of the living room . (p=0.000000)\n",
      "  18) On the other side of the street , I saw a woman standing in the middle of the street . She was standing in the middle of the street , looking out the window at the far end of the street . A couple of men stood in the middle of the living room . (p=0.000000)\n",
      "  19) On the other side of the street , I saw a woman standing in the middle of the street . She was standing in the middle of the street , looking out the window at the other end of the street . A couple of men stood in the middle of the street and watched her . (p=0.000000)\n",
      "  20) On the other side of the street , I saw a woman standing in the middle of the street . She was standing in the middle of the street , looking out the window at the other side of the house . A couple of men stood in the middle of the street , looking at each other . (p=0.000000)\n",
      "  21) On the other side of the street , I saw a woman standing in the middle of the street . She was standing in the middle of the street , looking out the window at the other end of the street . A couple of men stood in the middle of the street , looking at each other . (p=0.000000)\n",
      "  22) On the other side of the street , I saw a woman standing in the middle of the street . She was standing in the middle of the street , looking out the window at the far end of the street . A couple of men stood in the middle of the street , looking at each other . (p=0.000000)\n",
      "  23) On the other side of the street , I saw a woman standing in the middle of the street . She was standing in the middle of the street , looking out the window at the far end of the street . A couple of men stood in the middle of the road , looking at each other . (p=0.000000)\n",
      "  24) On the other side of the street , I saw a woman standing in the middle of the street . She was standing in the middle of the street , looking out the window at the other end of the street . A couple of men stood in the middle of the road , looking at each other . (p=0.000000)\n",
      "  25) On the other side of the street , I saw a woman standing in the middle of the street . She was standing in the middle of the street , looking out the window at the other end of the street . A couple of men stood in the middle of the street , looking at her . (p=0.000000)\n",
      "  26) On the other side of the street , I saw a woman standing in the middle of the street . She was standing in the middle of the street , looking out the window at the other side of the house . A couple of men stood in the middle of the street , looking for a girl . (p=0.000000)\n",
      "  27) On the other side of the street , I saw a woman standing in the middle of the street . She was standing in the middle of the street , looking out the window at the other end of the street . A couple of men stood in the middle of the street , looking for a girl . (p=0.000000)\n",
      "  28) On the other side of the street , I saw a woman standing in the middle of the street . She was standing in the middle of the street , looking out the window at the other end of the street . A couple of men stood in the middle of the street , looking for a woman . (p=0.000000)\n",
      "  29) On the other side of the street , I saw a woman standing in the middle of the street . She was standing in the middle of the street , looking out the window at the other side of the house . A couple of men stood in the middle of the street , looking at each other for a moment . (p=0.000000)\n",
      "  30) On the other side of the street , I saw a woman standing in the middle of the street . She was standing in the middle of the street , looking out the window at the far end of the street . A couple of men stood in the middle of the street , looking at each other for a moment . (p=0.000000)\n",
      "  31) On the other side of the street , I saw a woman standing in the middle of the street . She was standing in the middle of the street , looking out the window at the far end of the street . A couple of men stood in the middle of the street , looking at each other for a while . (p=0.000000)\n",
      "  32) On the other side of the street , I saw a woman standing in the middle of the street . She was standing in the middle of the street , looking out the window at the other side of the house . A couple of men stood in the middle of the street , looking at each other for a while . (p=0.000000)\n",
      "  33) On the other side of the street , I saw a woman standing in the middle of the street . She was standing in the middle of the street , looking out the window at the other end of the street . A couple of men stood in the middle of the street , looking at each other for a while . (p=0.000000)\n",
      "  34) On the other side of the street , I saw a woman standing in the middle of the street . She was standing in the middle of the street , looking out the window at the other side of the house . A couple of men stood in the middle of the street , looking at each other for a long time . (p=0.000000)\n",
      "  35) On the other side of the street , I saw a woman standing in the middle of the street . She was standing in the middle of the street , looking out the window at the far end of the street . A couple of men stood in the middle of the street , looking at each other for a long time . (p=0.000000)\n",
      "  36) On the other side of the street , I saw a woman standing in the middle of the street . She was standing in the middle of the street , looking out the window at the other end of the street . A couple of men stood in the middle of the street , looking at each other for a long time . (p=0.000000)\n",
      "  37) On the other side of the street , I saw a woman standing in the middle of the street . She was standing in the middle of the street , looking out the window at the far end of the street . A couple of men stood in the middle of the street , looking at each other in the distance . (p=0.000000)\n",
      "  38) On the other side of the street , I saw a woman standing in the middle of the street . She was standing in the middle of the street , looking out the window at the other end of the street . A couple of men stood in the middle of the street , looking at each other for a long time . She raised her eyebrows and shook her head . (p=0.000000)\n",
      "  39) On the other side of the street , I saw a woman standing in the middle of the street . She was standing in the middle of the street , looking out the window at the other end of the street . A couple of men stood in the middle of the street , looking at each other for a long time . She raised her eyebrows and raised an eyebrow . (p=0.000000)\n",
      "  40) On the other side of the street , I saw a woman standing in the middle of the street . She was standing in the middle of the street , looking out the window at the other end of the street . A couple of men stood in the middle of the street , looking at each other for a long time . She raised her eyebrows and raised her eyebrows . (p=0.000000)\n",
      "  41) On the other side of the street , I saw a woman standing in the middle of the street . She was standing in the middle of the street , looking out the window at the far end of the street . A couple of men stood in the middle of the street , looking at each other for a long time . She raised her eyebrows and raised an eyebrow . (p=0.000000)\n",
      "  42) On the other side of the street , I saw a woman standing in the middle of the street . She was standing in the middle of the street , looking out the window at the far end of the street . A couple of men stood in the middle of the street , looking at each other for a long time . She raised her eyebrows and raised her eyebrows . (p=0.000000)\n",
      "  43) On the other side of the street , I saw a woman standing in the middle of the street . She was standing in the middle of the street , looking out the window at the other end of the street . A couple of men stood in the middle of the street , looking at each other for a long time . She raised her eyebrows and raised a brow . (p=0.000000)\n",
      "  44) On the other side of the street , I saw a woman standing in the middle of the street . She was standing in the middle of the street , looking out the window at the far end of the street . A couple of men stood in the middle of the street , looking at each other for a long time . She raised her eyebrows and raised a brow . (p=0.000000)\n",
      "  45) On the other side of the street , I saw a woman standing in the middle of the street . She was standing in the middle of the street , looking out the window at the other end of the street . A couple of men stood in the middle of the street , looking at each other for a long time . She raised her eyebrows and raised a eyebrows . (p=0.000000)\n",
      "  46) On the other side of the street , I saw a woman standing in the middle of the street . She was standing in the middle of the street , looking out the window at the far end of the street . A couple of men stood in the middle of the street , looking at each other for a long time . She raised her eyebrows and raised a eyebrows . (p=0.000000)\n",
      "  47) On the other side of the street , I saw a woman standing in the middle of the street . She was standing in the middle of the street , looking out the window at the other end of the street . A couple of men stood in the middle of the street , looking at each other for a long time . She raised her eyebrows and raised a hand . (p=0.000000)\n",
      "  48) On the other side of the street , I saw a woman standing in the middle of the street . She was standing in the middle of the street , looking out the window at the far end of the street . A couple of men stood in the middle of the street , looking at each other for a long time . She raised her eyebrows and raised a hand . (p=0.000000)\n",
      "  49) On the other side of the street , I saw a woman standing in the middle of the street . She was standing in the middle of the street , looking out the window at the far end of the street . A couple of men stood in the middle of the street , looking at each other for a long time . She raised her eyebrows and raised an eyebrow at her . (p=0.000000)\n"
     ]
    }
   ],
   "source": [
    "restore_fn(sess)\n",
    "\n",
    "# Prepare the caption generator. Here we are implicitly using the default\n",
    "# beam search parameters. See caption_generator.py for a description of the\n",
    "# available beam search parameters.\n",
    "generator = story_generator.StoryGenerator(model, vocab, max_caption_length=100, beam_size=)\n",
    "\n",
    "\n",
    "\n",
    "stories = generator.beam_search(sess, np.expand_dims(description_style,0))\n",
    "#captions = generator.beam_search(sess, stv_embed)\n",
    "for i, story in enumerate(stories):\n",
    "    # Ignore begin and end words.\n",
    "    sentence = [vocab.id_to_word(w) for w in story.sentence[1:-1]]\n",
    "    sentence = \" \".join(sentence)\n",
    "    print(\"  %d) %s (p=%f)\" % (i, sentence, math.exp(story.logprob)))"
   ]
  },
  {
   "cell_type": "code",
   "execution_count": null,
   "metadata": {
    "collapsed": true
   },
   "outputs": [],
   "source": []
  },
  {
   "cell_type": "code",
   "execution_count": null,
   "metadata": {
    "collapsed": true
   },
   "outputs": [],
   "source": []
  },
  {
   "cell_type": "code",
   "execution_count": null,
   "metadata": {
    "collapsed": true
   },
   "outputs": [],
   "source": []
  },
  {
   "cell_type": "code",
   "execution_count": null,
   "metadata": {
    "collapsed": true
   },
   "outputs": [],
   "source": [
    "im"
   ]
  },
  {
   "cell_type": "code",
   "execution_count": null,
   "metadata": {
    "collapsed": true
   },
   "outputs": [],
   "source": []
  }
 ],
 "metadata": {
  "kernelspec": {
   "display_name": "Python 2",
   "language": "python",
   "name": "python2"
  },
  "language_info": {
   "codemirror_mode": {
    "name": "ipython",
    "version": 2
   },
   "file_extension": ".py",
   "mimetype": "text/x-python",
   "name": "python",
   "nbconvert_exporter": "python",
   "pygments_lexer": "ipython2",
   "version": "2.7.13"
  }
 },
 "nbformat": 4,
 "nbformat_minor": 2
}
