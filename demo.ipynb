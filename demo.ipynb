{
 "cells": [
  {
   "cell_type": "code",
   "execution_count": null,
   "metadata": {
    "collapsed": true
   },
   "outputs": [],
   "source": [
    "import os\n",
    "import tensorflow as tf\n",
    "import numpy as np\n",
    "import cPickle\n",
    "import math\n",
    "from configuration import *\n",
    "os.environ[\"THEANO_FLAGS\"] = \"device=cuda0\"\n",
    "os.environ[\"CUDA_VISIBLE_DEVICES\"]=\"0\"\n",
    "config_hardware = tf.ConfigProto()\n",
    "config_hardware.gpu_options.per_process_gpu_memory_fraction = 0.15\n",
    "tf.set_random_seed(9)"
   ]
  },
  {
   "cell_type": "code",
   "execution_count": null,
   "metadata": {},
   "outputs": [],
   "source": [
    "from caption_gen.CaptionWraper import *"
   ]
  },
  {
   "cell_type": "code",
   "execution_count": null,
   "metadata": {
    "collapsed": true
   },
   "outputs": [],
   "source": [
    "from skipthought import encoder_manager"
   ]
  },
  {
   "cell_type": "code",
   "execution_count": null,
   "metadata": {
    "collapsed": true
   },
   "outputs": [],
   "source": [
    "from storyteller.inference_utils import vocabulary\n",
    "from storyteller.inference_utils import story_generator\n",
    "from storyteller import inference_wrapper"
   ]
  },
  {
   "cell_type": "code",
   "execution_count": null,
   "metadata": {
    "collapsed": true
   },
   "outputs": [],
   "source": [
    "FLAGS = tf.flags.FLAGS\n",
    "\n",
    "tf.flags.DEFINE_string(\"checkpoint_path\", \"../StylishParaGen/bard_v1/res_adv_4/model.ckpt-174168\",\n",
    "                       \"Model checkpoint file or directory containing a \"\n",
    "                       \"model checkpoint file.\")\n",
    "tf.flags.DEFINE_string(\"vocab_file\", \"/media/VSlab3/kuanchen_arxiv/vocab_60000_advent_allpad/vocab_shared.txt\", \"Text file containing the vocabulary.\")\n",
    "tf.flags.DEFINE_string(\"book_data_dir\", \"/media/VSlab3/kuanchen_arxiv/BookCorpus_passage/\", \"directory of book data\")\n",
    "tf.flags.DEFINE_string(\"book_category\", \"Adventure\", \"cateogry of book\")\n",
    "\n",
    "\n",
    "tf.logging.set_verbosity(tf.logging.INFO)"
   ]
  },
  {
   "cell_type": "code",
   "execution_count": null,
   "metadata": {
    "collapsed": true
   },
   "outputs": [],
   "source": [
    "vse_config = vse_config()"
   ]
  },
  {
   "cell_type": "code",
   "execution_count": null,
   "metadata": {},
   "outputs": [],
   "source": [
    "wrapper = CapgenWrapper(vse_config)"
   ]
  },
  {
   "cell_type": "code",
   "execution_count": null,
   "metadata": {},
   "outputs": [],
   "source": [
    "image_path = \"/media/VSlab3/kuanchen_arxiv/NeuralStoryTeller/neural-storyteller/images/universiades_girl.jpeg\"\n",
    "top_k = 100\n",
    "captions = wrapper.get_caption(image_loc=image_path,k=top_k)"
   ]
  },
  {
   "cell_type": "code",
   "execution_count": null,
   "metadata": {
    "collapsed": true
   },
   "outputs": [],
   "source": [
    "encoder = encoder_manager.EncoderManager(config=config_hardware)"
   ]
  },
  {
   "cell_type": "code",
   "execution_count": null,
   "metadata": {},
   "outputs": [],
   "source": [
    "encoder.load_model(model_config=stv_config(),\n",
    "                   vocabulary_file=\"/media/VSlab3/kuanchen_arxiv/skip_thoughts_uni_2017_02_02/vocab.txt\",\n",
    "                   embedding_matrix_file=\"/media/VSlab3/kuanchen_arxiv/skip_thoughts_uni_2017_02_02/embeddings.npy\",\n",
    "                   checkpoint_path=\"/media/VSlab3/kuanchen_arxiv/skip_thoughts_uni_2017_02_02/model.ckpt-501424\")"
   ]
  },
  {
   "cell_type": "code",
   "execution_count": null,
   "metadata": {},
   "outputs": [],
   "source": [
    "vocab = vocabulary.Vocabulary(vocab_file=FLAGS.vocab_file, start_word='<sos>', end_word='<eos>',unk_word='<unk>')"
   ]
  },
  {
   "cell_type": "code",
   "execution_count": null,
   "metadata": {
    "collapsed": true
   },
   "outputs": [],
   "source": [
    "storyteller_config = storyteller_config()\n",
    "storyteller_config.vocab_size = len(vocab.vocab)"
   ]
  },
  {
   "cell_type": "code",
   "execution_count": null,
   "metadata": {},
   "outputs": [],
   "source": [
    "g = tf.Graph()\n",
    "with g.as_default():\n",
    "    model = inference_wrapper.InferenceWrapper()\n",
    "    restore_fn = model.build_graph_from_config(storyteller_config,\n",
    "                                               FLAGS.checkpoint_path)\n",
    "g.finalize()"
   ]
  },
  {
   "cell_type": "code",
   "execution_count": null,
   "metadata": {
    "collapsed": true
   },
   "outputs": [],
   "source": [
    "description = np.mean(encoder.encode(captions),axis=0)"
   ]
  },
  {
   "cell_type": "code",
   "execution_count": null,
   "metadata": {
    "collapsed": true
   },
   "outputs": [],
   "source": [
    "encoder.close()"
   ]
  },
  {
   "cell_type": "code",
   "execution_count": null,
   "metadata": {
    "collapsed": true
   },
   "outputs": [],
   "source": [
    "with open(\"./style_bias/bias_cap.pkl\", 'r') as handle:\n",
    "    bias_source = cPickle.load(handle)\n",
    "with open(\"./style_bias/bias_advent_long_100.pkl\", 'r') as handle:\n",
    "    bias_target_long = cPickle.load(handle)\n",
    "with open(\"./style_bias/bias_advent_short_100.pkl\", 'r') as handle:\n",
    "    bias_target_short = cPickle.load(handle)"
   ]
  },
  {
   "cell_type": "code",
   "execution_count": null,
   "metadata": {
    "collapsed": true
   },
   "outputs": [],
   "source": [
    "description_style = description - bias_source + bias_target_long"
   ]
  },
  {
   "cell_type": "code",
   "execution_count": null,
   "metadata": {},
   "outputs": [],
   "source": [
    "sess = tf.Session(graph=g,config=config_hardware)"
   ]
  },
  {
   "cell_type": "code",
   "execution_count": null,
   "metadata": {},
   "outputs": [],
   "source": [
    "restore_fn(sess)\n",
    "generator = story_generator.StoryGenerator(model, vocab, max_caption_length=100, beam_size=10)\n",
    "\n",
    "\n",
    "\n",
    "stories = generator.beam_search(sess, np.expand_dims(description_style,0))\n",
    "#captions = generator.beam_search(sess, stv_embed)\n",
    "for i, story in enumerate(stories):\n",
    "    # Ignore begin and end words.\n",
    "    sentence = [vocab.id_to_word(w) for w in story.sentence[1:-1]]\n",
    "    sentence = \" \".join(sentence)\n",
    "    print(\"  %d) %s (p=%f)\" % (i, sentence, math.exp(story.logprob)))"
   ]
  },
  {
   "cell_type": "code",
   "execution_count": null,
   "metadata": {
    "collapsed": true
   },
   "outputs": [],
   "source": []
  }
 ],
 "metadata": {
  "kernelspec": {
   "display_name": "Python 2",
   "language": "python",
   "name": "python2"
  },
  "language_info": {
   "codemirror_mode": {
    "name": "ipython",
    "version": 2
   },
   "file_extension": ".py",
   "mimetype": "text/x-python",
   "name": "python",
   "nbconvert_exporter": "python",
   "pygments_lexer": "ipython2",
   "version": "2.7.13"
  }
 },
 "nbformat": 4,
 "nbformat_minor": 2
}
