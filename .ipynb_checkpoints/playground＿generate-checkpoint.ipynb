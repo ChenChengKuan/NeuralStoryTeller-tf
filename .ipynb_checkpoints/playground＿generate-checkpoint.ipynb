{
 "cells": [
  {
   "cell_type": "code",
   "execution_count": 1,
   "metadata": {
    "collapsed": true
   },
   "outputs": [],
   "source": [
    "import os\n",
    "os.environ[\"THEANO_FLAGS\"] = \"device=cuda2\""
   ]
  },
  {
   "cell_type": "code",
   "execution_count": 3,
   "metadata": {},
   "outputs": [
    {
     "name": "stderr",
     "output_type": "stream",
     "text": [
      "Using cuDNN version 6020 on context None\n",
      "Mapped name None to device cuda2: Tesla M40 24GB (0000:08:00.0)\n"
     ]
    }
   ],
   "source": [
    "from caption_gen import generate"
   ]
  },
  {
   "cell_type": "code",
   "execution_count": 4,
   "metadata": {},
   "outputs": [
    {
     "name": "stdout",
     "output_type": "stream",
     "text": [
      "Loading image-sentence embedding...\n"
     ]
    },
    {
     "ename": "IOError",
     "evalue": "[Errno 2] No such file or directory: '../coco_embedding.npz.dictionary.pkl'",
     "output_type": "error",
     "traceback": [
      "\u001b[0;31m---------------------------------------------------------------------------\u001b[0m",
      "\u001b[0;31mIOError\u001b[0m                                   Traceback (most recent call last)",
      "\u001b[0;32m<ipython-input-4-586e541089b7>\u001b[0m in \u001b[0;36m<module>\u001b[0;34m()\u001b[0m\n\u001b[0;32m----> 1\u001b[0;31m \u001b[0mz\u001b[0m \u001b[0;34m=\u001b[0m \u001b[0mgenerate\u001b[0m\u001b[0;34m.\u001b[0m\u001b[0mload_all\u001b[0m\u001b[0;34m(\u001b[0m\u001b[0;34m)\u001b[0m\u001b[0;34m\u001b[0m\u001b[0m\n\u001b[0m",
      "\u001b[0;32m/home/kuanchen/NeuralStoryTeller-tf/caption_gen/generate.py\u001b[0m in \u001b[0;36mload_all\u001b[0;34m()\u001b[0m\n\u001b[1;32m     59\u001b[0m     \u001b[0;31m# Image-sentence embedding\u001b[0m\u001b[0;34m\u001b[0m\u001b[0;34m\u001b[0m\u001b[0m\n\u001b[1;32m     60\u001b[0m     \u001b[0;32mprint\u001b[0m \u001b[0;34m'Loading image-sentence embedding...'\u001b[0m\u001b[0;34m\u001b[0m\u001b[0m\n\u001b[0;32m---> 61\u001b[0;31m     \u001b[0mvse\u001b[0m \u001b[0;34m=\u001b[0m \u001b[0membedding\u001b[0m\u001b[0;34m.\u001b[0m\u001b[0mload_model\u001b[0m\u001b[0;34m(\u001b[0m\u001b[0mconfig\u001b[0m\u001b[0;34m.\u001b[0m\u001b[0mpaths\u001b[0m\u001b[0;34m[\u001b[0m\u001b[0;34m'vsemodel'\u001b[0m\u001b[0;34m]\u001b[0m\u001b[0;34m)\u001b[0m\u001b[0;34m\u001b[0m\u001b[0m\n\u001b[0m\u001b[1;32m     62\u001b[0m \u001b[0;34m\u001b[0m\u001b[0m\n\u001b[1;32m     63\u001b[0m     \u001b[0;31m# VGG-19\u001b[0m\u001b[0;34m\u001b[0m\u001b[0;34m\u001b[0m\u001b[0m\n",
      "\u001b[0;32m/home/kuanchen/NeuralStoryTeller-tf/caption_gen/embedding.py\u001b[0m in \u001b[0;36mload_model\u001b[0;34m(path_to_model)\u001b[0m\n\u001b[1;32m     19\u001b[0m     \"\"\"\n\u001b[1;32m     20\u001b[0m     \u001b[0;31m# Load the worddict\u001b[0m\u001b[0;34m\u001b[0m\u001b[0;34m\u001b[0m\u001b[0m\n\u001b[0;32m---> 21\u001b[0;31m     \u001b[0;32mwith\u001b[0m \u001b[0mopen\u001b[0m\u001b[0;34m(\u001b[0m\u001b[0;34m'%s.dictionary.pkl'\u001b[0m\u001b[0;34m%\u001b[0m\u001b[0mpath_to_model\u001b[0m\u001b[0;34m,\u001b[0m \u001b[0;34m'rb'\u001b[0m\u001b[0;34m)\u001b[0m \u001b[0;32mas\u001b[0m \u001b[0mf\u001b[0m\u001b[0;34m:\u001b[0m\u001b[0;34m\u001b[0m\u001b[0m\n\u001b[0m\u001b[1;32m     22\u001b[0m         \u001b[0mworddict\u001b[0m \u001b[0;34m=\u001b[0m \u001b[0mpkl\u001b[0m\u001b[0;34m.\u001b[0m\u001b[0mload\u001b[0m\u001b[0;34m(\u001b[0m\u001b[0mf\u001b[0m\u001b[0;34m)\u001b[0m\u001b[0;34m\u001b[0m\u001b[0m\n\u001b[1;32m     23\u001b[0m \u001b[0;34m\u001b[0m\u001b[0m\n",
      "\u001b[0;31mIOError\u001b[0m: [Errno 2] No such file or directory: '../coco_embedding.npz.dictionary.pkl'"
     ]
    }
   ],
   "source": [
    "z = generate.load_all()"
   ]
  },
  {
   "cell_type": "code",
   "execution_count": null,
   "metadata": {
    "collapsed": true
   },
   "outputs": [],
   "source": [
    "generate.story(z, './images/ex1.jpg',k=50,bw=100)"
   ]
  },
  {
   "cell_type": "code",
   "execution_count": 6,
   "metadata": {
    "collapsed": true
   },
   "outputs": [],
   "source": [
    "rawim, im = load_image('./images/ex1.jpg')"
   ]
  },
  {
   "cell_type": "code",
   "execution_count": 7,
   "metadata": {
    "collapsed": true
   },
   "outputs": [],
   "source": [
    "feats = compute_features(z['net'], im).flatten()"
   ]
  },
  {
   "cell_type": "code",
   "execution_count": 8,
   "metadata": {
    "collapsed": true
   },
   "outputs": [],
   "source": [
    "feats /= norm(feats)"
   ]
  },
  {
   "cell_type": "code",
   "execution_count": 9,
   "metadata": {},
   "outputs": [
    {
     "data": {
      "text/plain": [
       "(1, 4096)"
      ]
     },
     "execution_count": 9,
     "metadata": {},
     "output_type": "execute_result"
    }
   ],
   "source": [
    "feats[None,:].shape"
   ]
  },
  {
   "cell_type": "code",
   "execution_count": 10,
   "metadata": {
    "collapsed": true
   },
   "outputs": [],
   "source": [
    "feats = embedding.encode_images(z['vse'], feats[None,:])"
   ]
  },
  {
   "cell_type": "code",
   "execution_count": 11,
   "metadata": {
    "collapsed": true
   },
   "outputs": [],
   "source": [
    "scores = numpy.dot(feats, z['cvec'].T).flatten()\n",
    "sorted_args = numpy.argsort(scores)[::-1]"
   ]
  },
  {
   "cell_type": "code",
   "execution_count": 12,
   "metadata": {
    "collapsed": true
   },
   "outputs": [],
   "source": [
    "sentences = [z['cap'][a] for a in sorted_args[:100]]"
   ]
  },
  {
   "cell_type": "code",
   "execution_count": 13,
   "metadata": {},
   "outputs": [
    {
     "data": {
      "text/plain": [
       "['A surfer is silhouetted against a sunset at the beach .',\n",
       " 'a person rides a horse at sunset along the beach',\n",
       " 'A person rides a horse on a beach at sunset .',\n",
       " 'A surfer looks at the ocean while the sun is setting .',\n",
       " 'people look out at the ocean as some birds fly over',\n",
       " 'A view of the sunset on the ocean .',\n",
       " 'Four people riding horses on the beach and birds flying during a sunset',\n",
       " 'Three people ride horses on an ocean front beach .',\n",
       " 'A person riding a horse with a pretty sunset .',\n",
       " 'there is a surfer walking on the beach at sunset',\n",
       " 'A person walks along a beach as the sun sets .',\n",
       " 'The silhouette of a person standing in front of a sunset over water .',\n",
       " 'A man walking out of the ocean at sunset .',\n",
       " 'A person walking on the beach off in the distance',\n",
       " 'Two people riding horses down a sandy beach at sunset .',\n",
       " 'A group of people and a horse on the horizon at sunset .',\n",
       " 'A person riding their bike on the beach at sunset',\n",
       " 'A photo of a sunset with a person in the water .',\n",
       " 'A man walks along an empty beach at sunset .',\n",
       " 'A dog and a person on a misty beach near the surf .',\n",
       " 'A silhouette of a horse with the ocean background .',\n",
       " 'A person stands on a beach watching a dog walking in the ocean .',\n",
       " 'Horses are walking on a beach in the distance .',\n",
       " 'A far away person walks on a beach at low tide .',\n",
       " 'Person walking on beach in the sunset with a surf board .',\n",
       " 'A person standing on top of a beach as the sun sets .',\n",
       " 'The ocean at sun set with someone sky diving .',\n",
       " 'Person on a beach watching a single-sail boat out past the surf at sunset .',\n",
       " 'A person with a surf board on the beach with the sun shining on the water .',\n",
       " 'Someone is riding their bike on the beach at sunset',\n",
       " 'A man with a surfboard walking across the beach at sunset .',\n",
       " 'Silhouette of a person riding a horse on beach .',\n",
       " 'A person surfing at sunset while his dog is watching .',\n",
       " 'A person is standing in front of the ocean at sunset .',\n",
       " 'Two young people riding horses along the beach at sunset .',\n",
       " 'People horseback riding during sunset on the beach .',\n",
       " 'Two people standing near the ocean with sails in the sky .',\n",
       " 'The mirror is near the view of an ocean beach .',\n",
       " 'Two people riding horses on a beach near an ocean .',\n",
       " 'A person walking across a beach near the ocean .',\n",
       " 'The people are walking their dog on the beach before the sun goes down',\n",
       " 'a person walking on beach , that has red bench at sunset .',\n",
       " 'An animal is standing on the beach while to sun sets .',\n",
       " 'A person riding a horse on a beach near the ocean .',\n",
       " 'A shore is littered with a few birds as the ocean sits in the distance .',\n",
       " 'Two people ride their bikes on the beach at sunset .',\n",
       " 'two people riding horses along the beach on a cloudy day',\n",
       " 'Surfer with board walking into the ocean at sunset .',\n",
       " 'Three people riding horses next to the ocean .',\n",
       " 'Two people riding horses on the beach near the ocean .',\n",
       " 'The silhouette of a man with a surfboard is contrasted against the ocean as he walks the shoreline .',\n",
       " 'A person riding a horse on the beach next to the ocean .',\n",
       " 'A bird that is standing on a beach during sunset .',\n",
       " 'A lone surf boarder walking walking up the shore at sunset',\n",
       " 'four people riding horses at the beach on a cloudy day',\n",
       " 'A bunch of people near some water with the sun shining .',\n",
       " 'A lone person standing on the beach at sunset with a red bench in the foreground .',\n",
       " 'people in the ocean at sunset surfing and swimming .',\n",
       " 'Someone is surfing the breakers under a sky filled with fluffy clouds .',\n",
       " 'two people riding horses on a beach near a body of water',\n",
       " 'three people riding horses on a beach near a body of water',\n",
       " 'A person riding a horse on top of a sandy beach next to the ocean .',\n",
       " 'a person riding a horse on a beach near water',\n",
       " 'A person is riding a horse near the ocean .',\n",
       " 'Two people are riding horses by the ocean .',\n",
       " 'The tide is coming in from a greenish water that sits under fluffy clouds .',\n",
       " 'Someone riding a horse on the beach under sunny clouds',\n",
       " 'A person sitting on the beach watching another person holding a surfboard walk into the ocean .',\n",
       " 'The dog and person are on the beach during the sun rise .',\n",
       " 'A man riding his horse through the beach shore in the evening .',\n",
       " 'A person stands beside a surfboard on the beach just after sunrise',\n",
       " 'A person in the distance surfing near a beach',\n",
       " 'Horses walk out of the ocean as boaters float in the background .',\n",
       " 'A horse standing in a open space at sunset .',\n",
       " 'Two people walk on the beach near waves coming toward the ocean .',\n",
       " 'Surfers head toward shore while another watches the waves .',\n",
       " 'The silhouette of a person walking on the beach with a surfboard .',\n",
       " 'two people riding horses on a beach near water',\n",
       " 'A person and a horse standing in the water at a beach .',\n",
       " 'a person running on a beach near a body of water',\n",
       " 'Two men riding horses though the ocean on a cloudy day .',\n",
       " 'The man is standing on the beach just after sunrise .',\n",
       " 'Horses in a field next to the ocean under a cloudy sky .',\n",
       " 'A person rides a horse alone on the beach .',\n",
       " 'Two people cycling at the beach at sunset',\n",
       " 'A person rides horseback down a beach along the ocean .',\n",
       " 'a person with a surf board stands in a sunset',\n",
       " 'The silhouette of a wind surfer walking with their board and sail on a beach with a yellow sky .',\n",
       " 'A person walking on the beach while the tide is out .',\n",
       " 'sunsets over a surfer and other people enjoying the ocenn beach',\n",
       " 'The silhouette of a person on a beach is holding a surfboard .',\n",
       " 'The silhouette of people and a horse is seen in the distance .',\n",
       " 'People are riding horses along the ocean shore .',\n",
       " 'Two people riding horses on a beach in the water .',\n",
       " 'The riders are enjoying the beach at sunset .',\n",
       " 'A person riding a horse on the shore of an ocean',\n",
       " 'Two people ride their horses along the beach shore .',\n",
       " 'A couple of people parasailing in the ocean at sunset .',\n",
       " 'Person on a horse over looking the ocean .',\n",
       " 'two people riding horses down a beach by the ocean']"
      ]
     },
     "execution_count": 13,
     "metadata": {},
     "output_type": "execute_result"
    }
   ],
   "source": [
    "sentences"
   ]
  },
  {
   "cell_type": "code",
   "execution_count": null,
   "metadata": {
    "collapsed": true
   },
   "outputs": [],
   "source": [
    "sentences = prepracess(sentences)"
   ]
  },
  {
   "cell_type": "code",
   "execution_count": null,
   "metadata": {
    "collapsed": true
   },
   "outputs": [],
   "source": [
    "svecs = skipthoughts.encode(z['stv'], sentences, verbose=False)"
   ]
  },
  {
   "cell_type": "code",
   "execution_count": null,
   "metadata": {
    "collapsed": true
   },
   "outputs": [],
   "source": [
    "svecs.shape"
   ]
  },
  {
   "cell_type": "code",
   "execution_count": null,
   "metadata": {
    "collapsed": true
   },
   "outputs": [],
   "source": [
    "shift = svecs.mean(0) - z['bneg'] + z['bpos']"
   ]
  },
  {
   "cell_type": "code",
   "execution_count": null,
   "metadata": {
    "collapsed": true
   },
   "outputs": [],
   "source": [
    "shift.shape"
   ]
  },
  {
   "cell_type": "code",
   "execution_count": null,
   "metadata": {
    "collapsed": true
   },
   "outputs": [],
   "source": [
    "z['dec'].keys()"
   ]
  },
  {
   "cell_type": "code",
   "execution_count": null,
   "metadata": {
    "collapsed": true
   },
   "outputs": [],
   "source": [
    "z['dec']['options']['dimctx']"
   ]
  },
  {
   "cell_type": "code",
   "execution_count": null,
   "metadata": {
    "collapsed": true
   },
   "outputs": [],
   "source": []
  }
 ],
 "metadata": {
  "kernelspec": {
   "display_name": "Python 2",
   "language": "python",
   "name": "python2"
  },
  "language_info": {
   "codemirror_mode": {
    "name": "ipython",
    "version": 2
   },
   "file_extension": ".py",
   "mimetype": "text/x-python",
   "name": "python",
   "nbconvert_exporter": "python",
   "pygments_lexer": "ipython2",
   "version": "2.7.13"
  }
 },
 "nbformat": 4,
 "nbformat_minor": 2
}
